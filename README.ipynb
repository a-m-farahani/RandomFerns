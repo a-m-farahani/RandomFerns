{
 "cells": [
  {
   "attachments": {},
   "cell_type": "markdown",
   "metadata": {},
   "source": [
    "<h3> Random Ferns </h3>\n",
    "Random ferns is an ensemble probabilistic method for classification. \n",
    "\n",
    "In optimal Bayesian classifier:\n",
    "\n",
    "$ H(F) = \\underset{k}{argmax} \\frac{P(F|c_k)P(c_k)}{P(F)}= \\underset{k}{argmax} P(F|c_k)P(c_k)$\n",
    "\n",
    "where $[F]_{d \\times 1}$ is a $d$ dimensional input vector and $P(F|c_k)$ is the probability of $F$ given class label $k$. The problem is calculating $P(F|c_k)$ for high dimensional data (d) is not possible, because:\n",
    "\n",
    "$P(F|c_k) = P(f_1 | f_2,f_3,...,f_d,c_k) P(f_1, f_2 | f_3,...,f_d,c_k) ... P(f_d| f_1,f_2,...,f_{d-1},c_k)$ \n",
    "\n",
    "which its complexity is $O(2^d)$. \n",
    "In Naive Bayes method, it is assumed that the features are independent. Under this assumption:\n",
    "\n",
    "$ P(F|c_k) = P(f_1 |c_k) P(f_2 |c_k) ... P(f_d|c_k) = \\prod\\limits_{i=1}^{d}P(f_i|c_k)$ \n",
    "\n",
    "This assumption is not correct in all cases, specially for data in which features are correlated. For example, in images, each pixel is similar to its neighbors so actually they are not independent. An intermediate approach which asumes that some features are dependent and some features are independent is semi-naive bayes method. In semi-naive bayes, features are partitioned into $L$ non-overlapping subsets. features in each subset are dependent and features of a subset are independent from features of other subsets. In this case:\n",
    "\n",
    "$P(F|c_k) = \\prod\\limits_{l=1}^{L} P(F|c_k)$                         \n",
    "$H(F) = \\underset{k}{argmax} P(c_k) \\prod\\limits_{l=1}^{L}P(F_l|c_k)$\n",
    "\n",
    "<b>R</b>andom <b>F</b>erns(RFs) is an estimation for semi-naive bayes method. In RFs, estimation of $P(F_l|c_k)$ is done by a set of binary tests. Binary tests are used to estimate feature dependencies. Each fern estimates the conditional probability $P(F_l|c_k)$ based on the features in subset $F_l$. Binary test is simply as follows:\n",
    "\n",
    "$T(f_i,f_j) = \\begin{cases} 1, & \\text{if} & f_i > f_j \\\\ 0, & \\text{otherwise} \\end{cases} $\n",
    "\n",
    "applying $\\text{S}$ different binary tests leads to a $\\text{S}$ bit binary code which can be converted to a decimal number. So, each fern takes an input and produces a number in range $[0, 2^S - 1]$:\n",
    "<img src=\"data/temp1.png\" width=\"400\" height=\"200\">\n",
    "\n",
    "In other words, a Fern converts a subset of features to an integer number. For a set of training data from class $c_k$, we feed the input training samples to a fern and get the result. We can make a Histogram by the outputs of the fern.\n",
    "<img src=\"data/temp2.png\" width=\"500\" height=\"400\">\n",
    "The obtained histogram is an estimation for $P(F_l | c_k)$.\n",
    "\n",
    "Here is an implementation of <b>Random Ferns</b> method:"
   ]
  },
  {
   "cell_type": "code",
   "execution_count": 24,
   "metadata": {},
   "outputs": [],
   "source": [
    "import numpy as np\n",
    "import random\n",
    "\n",
    "class Fern(object):\n",
    "    def __init__(self, features, n_class, code_length):            \n",
    "        self.F = features\n",
    "        self.S = code_length\n",
    "        self.C = n_class\n",
    "        \n",
    "        self.Tests = []\n",
    "        self.Histogram = None \n",
    "        self.FITTED = False\n",
    "        \n",
    "        passes = 0\n",
    "        cntr = 0\n",
    "        while cntr < self.S:\n",
    "            passes += 1\n",
    "            if passes > 2**self.S:\n",
    "                print(\"Error! It's not possible to make \" , 2**self.S , \n",
    "                      \" different random tests on \" , len(self.F) , \" smaples...\")\n",
    "                return\n",
    "            b = random.choices(self.F, k=2)\n",
    "            if ((b[0],b[1]) in self.Tests) or ((b[1],b[0]) in self.Tests) or (b[0]==b[1]):\n",
    "                continue\n",
    "            self.Tests.append((b[0],b[1]))\n",
    "            cntr += 1\n",
    "            \n",
    "    def __str__(self):\n",
    "        return(str(self.Tests))\n",
    "    \n",
    "    def forward(self, x):\n",
    "        if type(x)==np.ndarray:\n",
    "            if x.ndim >= 2:\n",
    "                x = x.flatten()\n",
    "        \n",
    "        code = []\n",
    "        for test in self.Tests:\n",
    "            if x[test[0]] > x[test[1]]:\n",
    "                code.append(1)\n",
    "            else:\n",
    "                code.append(0)\n",
    "        \n",
    "        exp = 1\n",
    "        decimal = 0\n",
    "        for b in code:\n",
    "            decimal = decimal + (exp*b)\n",
    "            exp = exp*2\n",
    "        \n",
    "        return decimal, code\n",
    "    \n",
    "    def pdf(self, x):\n",
    "        if x>2**self.S or x<0:\n",
    "            print(\"Error. Invalid Input.\")\n",
    "            return 0\n",
    "        res = []\n",
    "        for i in range(self.C):\n",
    "            res.append(self.Histogram[i,x])\n",
    "        return res\n",
    "    \n",
    "    def fit(self, X, Y):\n",
    "        self.Histogram = np.zeros((self.C, 2**self.S))\n",
    "        for (sample,label) in zip(X, Y):\n",
    "            decimal, _ = self.forward(sample)\n",
    "            self.Histogram[label, decimal] += 1\n",
    "        self.FITTED = True\n"
   ]
  },
  {
   "cell_type": "markdown",
   "metadata": {},
   "source": [
    "Here we will train some Random Ferns on MNIST dataset.\n",
    "First of all, we need a method to read <a href=\"http://yann.lecun.com/exdb/mnist/\">MNIST data</a>.\n",
    "<i>read_mnist</i> function gets paths for MNIST ubyte image file and ubyte label file and returns an array of size $n \\times 28 \\times 28$, and a list of size $n$."
   ]
  },
  {
   "cell_type": "code",
   "execution_count": 25,
   "metadata": {},
   "outputs": [
    {
     "name": "stdout",
     "output_type": "stream",
     "text": [
      "Labels:  [7 2 1 ... 4 5 6]\n",
      "Images:  (10000, 28, 28)\n"
     ]
    }
   ],
   "source": [
    "import numpy as np\n",
    "import struct\n",
    "\n",
    "def read_mnist(images_file_path, labels_file_path):\n",
    "    try:\n",
    "        with open(labels_file_path , 'rb') as f:\n",
    "            struct.unpack(\">II\", f.read(8))\n",
    "            labels = np.fromfile(f, dtype=np.int8)\n",
    "\n",
    "        with open(images_file_path, 'rb') as f:\n",
    "            _,_, rows, cols = struct.unpack(\">IIII\", f.read(16))\n",
    "            images = np.fromfile(f, dtype=np.uint8).reshape(len(labels), rows, cols)\n",
    "\n",
    "        return images, labels    \n",
    "    except IOError:\n",
    "        print(\"Error in reading files.\")\n",
    "            \n",
    "\n",
    "imgs,lbls = read_mnist(\"MNIST/t10k-images-idx3-ubyte\", \"MNIST/t10k-labels-idx1-ubyte\")\n",
    "print(\"Labels: \", lbls)\n",
    "print(\"Images: \" , imgs.shape)\n"
   ]
  },
  {
   "cell_type": "code",
   "execution_count": 26,
   "metadata": {},
   "outputs": [
    {
     "name": "stdout",
     "output_type": "stream",
     "text": [
      "Label of the sample image:  0\n"
     ]
    },
    {
     "data": {
      "image/png": "[encoded data removed]",
      "text/plain": [
       "<Figure size 432x288 with 1 Axes>"
      ]
     },
     "metadata": {
      "needs_background": "light"
     },
     "output_type": "display_data"
    }
   ],
   "source": [
    "from matplotlib import pyplot as plt\n",
    "\n",
    "sample_index = 10\n",
    "im = imgs[sample_index,:,:]\n",
    "print(\"Label of the sample image: \", lbls[sample_index])\n",
    "plt.imshow(im, cmap='gray')\n",
    "plt.show()"
   ]
  },
  {
   "cell_type": "markdown",
   "metadata": {},
   "source": [
    "In next step, we will create 20 random ferns and train them on MNIST samples."
   ]
  },
  {
   "cell_type": "code",
   "execution_count": 27,
   "metadata": {},
   "outputs": [],
   "source": [
    "# 20 ferns for each class\n",
    "\n",
    "d = imgs.shape[1]*imgs.shape[2]   # number of features(pixels)\n",
    "n_classes = 10\n",
    "n_ferns = 20\n",
    "code_length = 8   # number of binary tests, or S in formulas\n",
    "\n",
    "ferns = []\n",
    "for i in range(n_ferns):\n",
    "    fern = Fern(features=range(d), n_class=n_classes, code_length=code_length)\n",
    "    fern.fit(imgs,lbls)\n",
    "    ferns.append(fern)\n"
   ]
  },
  {
   "cell_type": "markdown",
   "metadata": {},
   "source": [
    "For a test sample, we will feed it to all the ferns and get the outputs. Then, a majority voting will be used for the classification:"
   ]
  },
  {
   "cell_type": "code",
   "execution_count": 28,
   "metadata": {},
   "outputs": [
    {
     "name": "stdout",
     "output_type": "stream",
     "text": [
      "Input sample:  4\n",
      "Prediction:  4\n"
     ]
    },
    {
     "data": {
      "image/png": "[encoded data removed]",
      "text/plain": [
       "<Figure size 432x288 with 2 Axes>"
      ]
     },
     "metadata": {
      "needs_background": "light"
     },
     "output_type": "display_data"
    }
   ],
   "source": [
    "index = 555\n",
    "\n",
    "print(\"Input sample: \",lbls[index])\n",
    "results = []\n",
    "for fern in ferns:\n",
    "    x, _ = fern.forward(imgs[index])\n",
    "    results.append(fern.pdf(x))\n",
    "\n",
    "results = np.asarray(results)\n",
    "log_results = np.log(results+1e-6)\n",
    "p = log_results.sum(axis=0)\n",
    "a = np.argmax(p)\n",
    "print(\"Prediction: \" , a)\n",
    "\n",
    "plt.subplot(1,2,1)\n",
    "plt.title(\"Input Image\")\n",
    "plt.imshow(np.asarray(imgs[index,:,:]), cmap='gray')\n",
    "plt.subplot(1,2,2)\n",
    "plt.title(\"Votes\")\n",
    "plt.plot(p)\n",
    "plt.plot(a,p[a],'ro')\n",
    "plt.xlabel(\"class labels\")\n",
    "plt.show()\n"
   ]
  }
 ],
 "metadata": {
  "kernelspec": {
   "display_name": "Python 3",
   "language": "python",
   "name": "python3"
  },
  "language_info": {
   "codemirror_mode": {
    "name": "ipython",
    "version": 3
   },
   "file_extension": ".py",
   "mimetype": "text/x-python",
   "name": "python",
   "nbconvert_exporter": "python",
   "pygments_lexer": "ipython3",
   "version": "3.8.3"
  }
 },
 "nbformat": 4,
 "nbformat_minor": 4
}
